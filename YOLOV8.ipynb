{
  "nbformat": 4,
  "nbformat_minor": 0,
  "metadata": {
    "colab": {
      "provenance": [],
      "authorship_tag": "ABX9TyOdabrxwkfQRb0lwf9+1CKK",
      "include_colab_link": true
    },
    "kernelspec": {
      "name": "python3",
      "display_name": "Python 3"
    },
    "language_info": {
      "name": "python"
    }
  },
  "cells": [
    {
      "cell_type": "markdown",
      "metadata": {
        "id": "view-in-github",
        "colab_type": "text"
      },
      "source": [
        "<a href=\"https://colab.research.google.com/github/kitenebie/YoloV8-noteBook/blob/main/YOLOV8.ipynb\" target=\"_parent\"><img src=\"https://colab.research.google.com/assets/colab-badge.svg\" alt=\"Open In Colab\"/></a>"
      ]
    },
    {
      "cell_type": "markdown",
      "source": [
        "**KENNETH HABOC GIMPAO**"
      ],
      "metadata": {
        "id": "bWqOO1cv_2Hg"
      }
    },
    {
      "cell_type": "markdown",
      "source": [
        "***A.I. OBJECT DETECTION TAINING***"
      ],
      "metadata": {
        "id": "lgaCUlnK__sY"
      }
    },
    {
      "cell_type": "code",
      "source": [
        "pip install ultralytics"
      ],
      "metadata": {
        "id": "aoRHQ1cNAGIJ"
      },
      "execution_count": null,
      "outputs": []
    },
    {
      "cell_type": "code",
      "source": [
        "git clone https://github.com/ultralytics/ultralytics\n",
        "cd ultralytics\n",
        "pip install -e ultralytics"
      ],
      "metadata": {
        "id": "r3BgrQkJAKYX"
      },
      "execution_count": null,
      "outputs": []
    },
    {
      "cell_type": "code",
      "source": [
        "yolo task=detect \\\n",
        "mode=predict \\\n",
        "model=yolov8n.pt \\\n",
        "conf=0.25 \\\n",
        "source='https://media.roboflow.com/notebooks/examples/dog.jpeg'"
      ],
      "metadata": {
        "id": "iagN1_uEANPw"
      },
      "execution_count": null,
      "outputs": []
    },
    {
      "cell_type": "code",
      "source": [
        "from ultralytics import YOLO\n",
        "\n",
        "model = YOLO('yolov8n.pt')\n",
        "model.predict(\n",
        "   source='https://media.roboflow.com/notebooks/examples/dog.jpeg',\n",
        "   conf=0.25\n",
        ")"
      ],
      "metadata": {
        "id": "KPZ1mKWeAQco"
      },
      "execution_count": null,
      "outputs": []
    },
    {
      "cell_type": "code",
      "source": [
        "from roboflow import Roboflow\n",
        "\n",
        "#GET API DATASET PASTE ON IT"
      ],
      "metadata": {
        "id": "weSaBDXKAaFE"
      },
      "execution_count": null,
      "outputs": []
    },
    {
      "cell_type": "code",
      "source": [
        "yolo task=detect \\\n",
        "mode=train \\\n",
        "model=yolov8s.pt \\\n",
        "data={dataset.location}/data.yaml \\\n",
        "epochs=100 \\\n",
        "imgsz=640"
      ],
      "metadata": {
        "id": "IbenibyGAiaE"
      },
      "execution_count": null,
      "outputs": []
    },
    {
      "cell_type": "code",
      "source": [
        "yolo task=detect \\\n",
        "mode=val \\\n",
        "model={HOME}/runs/detect/train/weights/best.pt \\\n",
        "data={dataset.location}/data.yaml"
      ],
      "metadata": {
        "id": "mQAr91LzAkka"
      },
      "execution_count": null,
      "outputs": []
    },
    {
      "cell_type": "code",
      "source": [
        "yolo task=detect \\\n",
        "mode=predict \\\n",
        "model={HOME}/runs/detect/train/weights/best.pt \\\n",
        "conf=0.25 \\\n",
        "source={dataset.location}/test/images"
      ],
      "metadata": {
        "id": "Rg5lXEXiAnix"
      },
      "execution_count": null,
      "outputs": []
    },
    {
      "cell_type": "code",
      "source": [
        "project.version(DATASET_VERSION).deploy(model_type=”yolov8”, model_path=f”{HOME}/runs/detect/train/”)"
      ],
      "metadata": {
        "id": "fUao5xvBAsuf"
      },
      "execution_count": null,
      "outputs": []
    },
    {
      "cell_type": "code",
      "source": [
        "docker pull roboflow/roboflow-inference-server-gpu"
      ],
      "metadata": {
        "id": "xGCIe3GIAtUY"
      },
      "execution_count": null,
      "outputs": []
    },
    {
      "cell_type": "code",
      "source": [
        "import requests\n",
        "\n",
        "workspace_id = \"\"\n",
        "model_id = \"\"\n",
        "image_url = \"\"\n",
        "confidence = 0.75\n",
        "api_key = \"\"\n",
        "\n",
        "infer_payload = {\n",
        "    \"image\": {\n",
        "        \"type\": \"url\",\n",
        "        \"value\": image_url,\n",
        "    },\n",
        "    \"confidence\": confidence,\n",
        "    \"iou_threshold\": iou_thresh,\n",
        "    \"api_key\": api_key,\n",
        "}\n",
        "res = requests.post(\n",
        "    f\"http://localhost:9001/{workspace_id}/{model_id}\",\n",
        "    json=infer_object_detection_payload,\n",
        ")\n",
        "\n",
        "predictions = res.json()"
      ],
      "metadata": {
        "id": "FPv5iKwXAw7v"
      },
      "execution_count": null,
      "outputs": []
    },
    {
      "cell_type": "markdown",
      "source": [
        "The YOLOv8 CLI\n",
        "Preparing a custom dataset for YOLOv8\n",
        "Export and Upload Weights\n",
        "Deploy Your Model to the Edge"
      ],
      "metadata": {
        "id": "Yw18fWtAA5Ii"
      }
    }
  ]
}